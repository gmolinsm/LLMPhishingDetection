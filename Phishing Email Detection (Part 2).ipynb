{
 "cells": [
  {
   "cell_type": "code",
   "execution_count": 6,
   "metadata": {},
   "outputs": [
    {
     "data": {
      "text/plain": [
       "array([0, 0, 0, ..., 1, 1, 1])"
      ]
     },
     "execution_count": 6,
     "metadata": {},
     "output_type": "execute_result"
    }
   ],
   "source": [
    "# Import libraries\n",
    "import pandas as pd\n",
    "from imblearn.under_sampling import RandomUnderSampler\n",
    "from sklearn.preprocessing import LabelEncoder\n",
    "\n",
    "pd.options.display.float_format = '{:20,.2f}'.format\n",
    "\n",
    "# Import dataset\n",
    "df = pd.read_csv('./Phishing_Email.csv')\n",
    "df.drop(df.columns[0], axis=1, inplace=True)\n",
    "df.dropna(inplace=True)\n",
    "\n",
    "X = df.drop(columns=[\"Email Type\"])\n",
    "y = df[\"Email Type\"]\n",
    "texts_under, labels_under = RandomUnderSampler(random_state=100).fit_resample(X, y)\n",
    "\n",
    "texts_under[\"Word Count\"] = texts_under[\"Email Text\"].apply(lambda texto: len(texto.split(\" \")))\n",
    "\n",
    "encoded_labels = LabelEncoder().fit_transform(labels_under)\n",
    "encoded_labels"
   ]
  },
  {
   "cell_type": "code",
   "execution_count": 7,
   "metadata": {},
   "outputs": [
    {
     "data": {
      "text/plain": [
       "array(['\\nhello i am your hot lil horny toy\\n  i am the one you dream about\\n  i am a very open minded person\\n  love to talk about and any subject\\n  fantasy is my way of life \\n  ultimate in sex play   ummmmmmmmmmmmmm\\n   i am wet and ready for you   it is not your looks but your imagination that matters most\\n   with my sexy voice i can make your dream come true\\n \\n   hurry up! call me let me cummmmm for you\\ntollfree       1877451teen 18774518336for phone billing   19009932582\\n \\n\\nsignup for your own free personalized email at mailcom\\nhttpwwwmailcom?srsignup',\n",
       "       'software at incredibly low prices 86 lower  drapery seventeen term represent any sing feet wild break able build tail send subtract represent job cow student inch gave let still warm family draw land book glass plan include sentence is hat silent nothing order wild famous long their inch such saw person save face especially sentence science certain cry does two depend yes written carry',\n",
       "       'entourage stockmogul newsletter ralph velez genex pharmaceutical inc  otcbb genx biotech sizzle with sales and earnings ! treating bone related injuries in china revenues three months ended june 30 2004  525 750 vs  98 763 year ago period net income three months ended june 30 2004  151 904 vs  23 929 year ago period source 10 q 8 16 04 look how these chinese companies trading in the usa did and what they would ve made your portfolio look like if you had the scoop on them  big money was made in these stocks by savvy investors who timed them right  otcbb caas  closed september 2 2003 at 4 00 closed december 31 2003  16 65 up 316 otcbb cwtd  closed january 30 2004 at 1 50 closed february 17 th at 7 90 up 426 ordinary investors like you are getting filthy stinking ri ch in tiny stocks no one has ever heard of until now this biotech bad boy genx is already out of stealth mode and is top line revenue producing ! do you see where we re going with this ? biotech sizzle with sales and earnings ! about genex pharmaceutical inc  product distribtued to 400 hospitals in 22 provinces genex pharmaceutical inc is a biomedical technology company with distinctive proprietary technology for an orthopedic device that treats bone related injuries headquartered in tianjin china the company manufactures and distributes reconstituted bone xenograft rbx  to 400 hospitals in 22 provinces throughout mainland china rbx is approved by the state food and drug administration sfda in china the chinese government agency that regulates drugs and medical devices  rbx offers a modern alternative to traditional methods of treating orthopedic injuries  source news release 7 27 04 recent press release headlines  new product tested and large acquisition in the works !  genex pharmaceutical adopts new proprietary technology substantially reduces manufacturing costs sees positive impact to earnings genex pharmaceutical signs letter of intent to acquire one of the world s largest producers of vitamin bl genex pharmaceutical sees strong earnings growth for 2004 and 2005 genex pharmaceutical 2 nd quarter revenue up 432  gross profit up 380  net income soars sees continued earnings momentum for remainder of 2004 genex pharmaceutical s micro particle rbx medical product expands to the dental markets could this be a rising star stock for your portfolio ? you may easily agree that the company is doing some dynamic things some of these small stocks have absolutely exploded in price recently  you may want to consider the chinese fortune cookie strategy rising star chinese companies trading in the us  consider adding genx to your portfolio today ! dis claimer information within this ema il contains forward looking statements within the meaning of section 27 a of the securities act of 1933 and section 21 b of the securities exchange act of 1934 any statements that express or involve discussions with respect to predictions expectations beliefs plans projections objectives goals assumptions or future events or performance are not statements of historical fact and may be forward looking statements  forward looking statements are based on expectations estimates and projections at the time the statements are made that involve a number of risks and uncertainties which could cause actual results or events to differ materially from those presently anticipated forward looking statements in this action may be identified through the use of words such as projects  foresee  expects  will  anticipates  estimates  believes  understands or that by statements indicating certain actions may  could  or might occur as with many micro cap stocks today s company has additional risk factors worth noting those factors include a limited operating history the company advancing cash to related parties and a shareholder on an unsecured basis one vendor a related party through a majority stockholder supplies ninety seven percent of the company s raw materials reliance on two customers for over fifty percent of their business and numerous related party transactions and the need to raise capital these risk factors and others are fully detailed in the company s sec filings we urge you to read them before you invest the publisher of this letter does not represent that the information contained in this message states all material facts or does not omit a material fact necessary to make the statements therein not misleading all information provided within this ema il pertaining to investing stocks or securities must be understood as information provided and not investment advice the publisher of this letter advises all readers and subscribers to seek advice from a registered professional securities representative before deciding to trade in stocks featured within this ema il none of the material within this report shall be construed as any kind of investment advice or solicitation many of these companies are on the verge of bankruptcy you can lose all your money by investing in this stock the publisher of this letter is not a registered investment advisor subscribers should not view information herein as legal tax accounting or investment advice any reference to past performance s of companies are specially selected to be referenced based on the favorable performance of these companies you would need perfect timing to acheive the results in the examples given there can be no assurance of that happening remember as always past performance is never indicative of future results and a thorough due diligence effort including a review of a company s filings should be completed prior to investing the publisher of this letter has no relationship with caas and cwtd  source for price information yahoo finance historical  in compliance with the securities act of 1933 sectionl 7 b  the publisher of this letter discloses the receipt of twenty four thousand dollars from a third party  dmi inc not an officer director or affiliate shareholder for the circulation of this report be aware of an inherent conflict of interest resulting from such compensation due to the fact that this is a paid adver tisement and is not without bias all factual information in this report was gathered from public sources including but not limited to company websites sec filings and company press releases the publisher of this letter believes this information to be reliable but can make no guar antee as to its accuracy or completeness use of the material within this ema il constitutes your acceptance of these terms indemnity urbanite fogy denude registrable usia pilfer ethylene pounce pisces mutate water dialect contrast seymour molest commonality epidermic liquefaction prom koenig cookbook clio sixteenth casteth barrage borax told irredeemable desmond circle finch parch farkas fum arrogant neumann remission marten countryside silty bird placenta diphthong crass typhoid eyesight diatom extendible clip midspan insomniac continuation woebegone borealis pyramidal brandish sepal abnormal career avertive verdict bath collie canal rpm jolly primeval wong dishwasher noose magician accentuate apparel apache aerogene palmetto halsey rosetta springy despot depend sloe cattleman beginner exorcise cranberry von dissonant',\n",
       "       ...,\n",
       "       'benefits for terminated employees hi all i just got off the phone with the benefits center and they are informing people that it could take up to 90 days for them to send termination packages out to these employees and then you can send in your forms and it will take another 30 days to get a check specifically talking about the cash balance plan money this all happens after they get a notice that you are terminated which they usually process on the lst   come on what is up with this ? ? ? it could very well take up to 5 months for people to get a check in their hands ? that is not right since all of you have a lot more clout than me or any of the terminated employees i m hoping that someone will take this up with human resources or whomever to get this form downloadable or something to speed up this process thanks sabra dinari',\n",
       "       're question on office space in the new building sally here s the answer i got on office space in the new building it sounds like we will have a say in the matter i would hope that you would want and would get a representative on whatever committee is established please let me know if you need anything else related to this matter lisa x 3 6343            forwarded by lisa b cousino hou ect on 04 24 2000 04 47 pm              dorothy barnes enron 04 24 2000 02 21 pm to lisa b cousino hou ect ect cc subject re question re new building lisa i am forwarding bill donovan s answer to your question about who gets private offices in the new building thanks dorothy            forwarded by dorothy barnes corp enron on 04 24 2000 02 22 pm              corporate administrative services from bill donovan ect 04 24 2000 01 42 pm to dorothy barnes corp enron enron cc subject re question re new building dorothy please advise lisa that our expectation is that each business unit will largely have the final say in establishing office space standards for their workforce as is the case today  corporate may intercede only to the point that a business unit fails to design to a sufficient density average sq ft per workplace and does not meet minimum hard policy has not been set but we expect to gain consensus from enron s executive committee before detailed space planning begins  bill',\n",
       "       'markedness  bibliography dear list a couple of months ago i posted a request concerning bibliography on markedness now after i have written my paper i can present a list of referenses on markedness for those who are interested in it bibliography bardovi harlig k  1987  markedness and salience in secondlanguage acquisition language learning 37 3  385407 battistella e l  1990  markedness the evaluative superstructure of language albany state university of new york press benson b  1986  the markedness differential hypothesis implications for vietnamese speakers of english in f r eckman e a moravcsik j r wirth eds  markedness pp 271289  new york plenum press birdsong d  1989  metalinguistic performance and interlinguistic competence berlin springer verlag broselow e  1988  second language acquisition in j newmeyer ed  linguistics the cambridge survey vol iii language psychological and biological aspects  pp 194209  cambridge cambridge university press cook v j  1988  chomsky s universal grammar an introduction oxford uk basil blackwell croft w  1990  typology and universals cambridge cambridge university press eckman f  1977  markedness and the contrastive analysis hypothesis language learning 27 2  315330 eckman f  1985  the markedness differential hypothesis theory and applications in wheatley b  hastings a  eckman f r  bell l  krukar g  r rutkovski eds  current approaches to second language acquisition proceedings of the 1984 university of wisconsin milwaukee linguistic symposium pp 321  bloomington indiana indiana university linguistic club eckman f  1988  typological and parametric views on universals in second language acquisition in s flynn oneil w  eds  linguistic theory in second language acquisition  pp 417429  dordrecht kluwer academic publishers eckman f  bell l  nelson d  1988  on the generalization of relative clause instruction in the acquisition of english as a second language applied linguistics 9 1  120 ellis r  1994  the study of second language acquisition oxford oxford university press eubank l  1991  introduction universal grammar in the second language in l eubank ed  point counterpoint universal grammar in the second language  pp 148  amsterdam john benjamins publishing company flynn s and oneil w  1988  introduction in s flynn oneil w  eds  linguistic theory in second language acquisition pp 124  dordrecht kluwer academic publishers gair j w  1988  kinds of markedness in s flynn oneil w  eds  linguistic theory in second language acquisition pp 225250  dordrecht kluwer academic publishers gass s  1982  from theory to practice in hines m  rutherford w  eds  on tesol 81 pp 129139  washington dc  teachers of english to speakers of other languages greenberg j h  1966  language universals with special reference to feature hierarchies the hague mouton haegmann l  1991  introduction to government and binding theory oxford uk basil blackwell jakobson r and waugh l r  1987  the sound shape of language berlin mouton de gruyter liceras j m  1985  the role of intake in the determination of learners competence in s gass and c madden eds  input in second language acquisition rowley ma newbury house liceras j m  1988a  syntax and stylistics more on the prodrop parameter in j pankhurst m sharwood smith p v buren eds  learnability and second languages a book of readings pp 7193  dordrecht foris publications liceras j m  1988b  l2 learnability delimiting the domain of core grammar as distinct from the marked periphery in s flynn oneil w  eds  linguistic theory in second language acquisition  pp 199224  dordrecht kluwer academic publishers mazurkewich i  1984  the acquisition of the dative alteration by second language learners and linguistic theory language learning 34 91109 mazurkewich i  1988  the acquisition of infinitive and gerund complements by second language learners in s flynn oneil w  eds  linguistic theory in second language acquisition  pp 127143  dordrecht kluwer academic publishers moravcsik e  wirth j  1986  markedness an overview in f r eckman e a moravcsik j r wirth eds  markedness pp 111  new york plenum press myers scotton c  1993  social motivations for codeswitching evidence from africa oxford clarendon press phinney m  1987  the prodrop parameter in second language acquisition in t roeper e williams eds  parameter setting pp 221238  dordrecht d reidel publishing company rutherford w e  1982  markedness in second language acquisition language learning 32 1  85108 rutherford w e  1988  grammatical theory and l2 acquisition a brief overview in s flynn oneil w  eds  linguistic theory in second language acquisition  pp 404416  dordrecht kluwer academic publishers safir k  1987  comments on wexler and manzini in t roeper e williams eds  parameter setting pp 7789  dordrecht d reidel publishing company trubetzkoy n s  1975  letters and notes pp 162163  the hague mouton wexler k  manzini m r  1987  parameters and learnability in binding theory in t roeper e williams eds  parameter setting pp 41 76  dordrecht d reidel publishing company white l  1986  markedness and parameter setting some implications for a theory of adult second language acquisition in f r eckman e a moravcsik j r wirth eds  markedness pp 309327  new york plenum press white l  1987  a note on phinney in t roeper e williams eds  parameter setting pp 239246  dordrecht d reidel publishing company white l  1988a  universal grammar and language transfer in j pankhurst m sharwood smith p v buren eds  learnability and second languages a book of readings pp 36 60  dordrecht foris publications white l  1988b  island effects in second language acquisition in s flynn oneil w  eds  linguistic theory in second language acquisition  pp 144172  dordrecht kluwer academic publishers white l  1989  universal grammar and second language acquisition amsterdam philadelphia john benjamins publishing company white l  1992  universal grammar is it just a new name for old problems ? in s gass l selinker eds  language transfer in language learning 217232  amsterdam philadelphia john benjamins publishing company wolfe quintero k  1992  learnability and the acquisition of extraction in relative clauses and whquestions ssla 14 3970 zobl h  1983  markedness and the projection problem language learning 33 3  293313 zobl h  1988  configurationality and the subset principle the acquisition of v1 by japanese learners of english in j pankhurst m sharwood smith p v buren eds  learnability and second languages a book of readings pp 116131  dordrecht foris publications zobl h  1994  markedness aspects of casemarking in l1 french l2 english interlanguage unpublished manuscript i also would like to express my gratitude to all my correspondents many thanks to linguist tamsun tamu edu jane edwards edwards cogsci berkeley edu mihoko kubota kubota stc ipa go jp eva mendieta lombardo emendiet iunhaw1 iun indiana edu natasha artemeva nartemev ccs carleton ca'],\n",
       "      dtype=object)"
      ]
     },
     "execution_count": 7,
     "metadata": {},
     "output_type": "execute_result"
    }
   ],
   "source": [
    "import re\n",
    "\n",
    "# Text cleaning function\n",
    "def parse_sentence(text: str):\n",
    "    clean_text = \"\"\n",
    "    for word in text.lower().split(\" \"):\n",
    "        if word.startswith('@') and len(word) > 1:\n",
    "            word = 'user'\n",
    "        elif word.startswith('http'):\n",
    "            word = 'http'\n",
    "        clean_text += word + \" \"\n",
    "    clean_text = re.sub(r'[\"#$%&\\'()*+,\\-./:;<=>@[\\]^_`{|}~―]', '', clean_text)\n",
    "    clean_text = clean_text.replace('  ', ' ')\n",
    "    return clean_text[:-1]\n",
    "\n",
    "texts_clean = texts_under[\"Email Text\"].apply(lambda texto: parse_sentence(texto))\n",
    "texts_clean.values"
   ]
  },
  {
   "cell_type": "code",
   "execution_count": 8,
   "metadata": {},
   "outputs": [],
   "source": [
    "# Import necessary libraries\n",
    "import torch\n",
    "from torch.utils.data import DataLoader, Dataset\n",
    "from transformers import BertTokenizer, BertForSequenceClassification, AdamW\n",
    "from transformers import get_linear_schedule_with_warmup\n",
    "from sklearn.model_selection import train_test_split\n",
    "import numpy as np\n",
    "\n",
    "# Load and preprocess data\n",
    "class EmailDataset(Dataset):\n",
    "    def __init__(self, emails, labels, tokenizer, max_len):\n",
    "        self.emails = emails\n",
    "        self.labels = labels\n",
    "        self.tokenizer = tokenizer\n",
    "        self.max_len = max_len\n",
    "\n",
    "    def __len__(self):\n",
    "        return len(self.emails)\n",
    "\n",
    "    def __getitem__(self, index):\n",
    "        email = self.emails[index]\n",
    "        label = self.labels[index]\n",
    "\n",
    "        encoding = self.tokenizer.encode_plus(\n",
    "            email,\n",
    "            truncation=True,\n",
    "            padding='max_length',\n",
    "            add_special_tokens=True,\n",
    "            max_length=self.max_len,\n",
    "            return_token_type_ids=False,\n",
    "            pad_to_max_length=True,\n",
    "            return_attention_mask=True,\n",
    "            return_tensors='pt',\n",
    "        )\n",
    "\n",
    "        return {\n",
    "            'email_text': email,\n",
    "            'input_ids': encoding['input_ids'].flatten(),\n",
    "            'attention_mask': encoding['attention_mask'].flatten(),\n",
    "            'labels': torch.tensor(label, dtype=torch.long)\n",
    "        }\n",
    "\n",
    "# Step 4: Tokenizer and Dataset Preparation\n",
    "tokenizer = BertTokenizer.from_pretrained('bert-base-uncased')\n",
    "max_token_length = 512\n",
    "\n",
    "df = pd.DataFrame(data={\n",
    "    \"email\": texts_clean.values,\n",
    "    \"label\": encoded_labels\n",
    "})"
   ]
  },
  {
   "cell_type": "code",
   "execution_count": 9,
   "metadata": {},
   "outputs": [
    {
     "name": "stderr",
     "output_type": "stream",
     "text": [
      "Some weights of BertForSequenceClassification were not initialized from the model checkpoint at bert-base-uncased and are newly initialized: ['classifier.bias', 'classifier.weight']\n",
      "You should probably TRAIN this model on a down-stream task to be able to use it for predictions and inference.\n"
     ]
    },
    {
     "name": "stdout",
     "output_type": "stream",
     "text": [
      "Iteration: 0\n"
     ]
    },
    {
     "name": "stderr",
     "output_type": "stream",
     "text": [
      "c:\\Users\\guimo\\Downloads\\PyTorch\\env\\Lib\\site-packages\\transformers\\models\\bert\\modeling_bert.py:435: UserWarning: 1Torch was not compiled with flash attention. (Triggered internally at ..\\aten\\src\\ATen\\native\\transformers\\cuda\\sdp_utils.cpp:455.)\n",
      "  attn_output = torch.nn.functional.scaled_dot_product_attention(\n"
     ]
    },
    {
     "name": "stdout",
     "output_type": "stream",
     "text": [
      "Epoch 1/3, Train Loss: 0.1776, Val Loss: 0.0847\n",
      "Epoch 2/3, Train Loss: 0.0501, Val Loss: 0.0705\n",
      "Epoch 3/3, Train Loss: 0.0315, Val Loss: 0.0672\n"
     ]
    },
    {
     "name": "stderr",
     "output_type": "stream",
     "text": [
      "Some weights of BertForSequenceClassification were not initialized from the model checkpoint at bert-base-uncased and are newly initialized: ['classifier.bias', 'classifier.weight']\n",
      "You should probably TRAIN this model on a down-stream task to be able to use it for predictions and inference.\n"
     ]
    },
    {
     "name": "stdout",
     "output_type": "stream",
     "text": [
      "Iteration: 1\n",
      "Epoch 1/3, Train Loss: 0.1435, Val Loss: 0.0755\n",
      "Epoch 2/3, Train Loss: 0.0408, Val Loss: 0.0518\n",
      "Epoch 3/3, Train Loss: 0.0259, Val Loss: 0.0504\n"
     ]
    },
    {
     "name": "stderr",
     "output_type": "stream",
     "text": [
      "Some weights of BertForSequenceClassification were not initialized from the model checkpoint at bert-base-uncased and are newly initialized: ['classifier.bias', 'classifier.weight']\n",
      "You should probably TRAIN this model on a down-stream task to be able to use it for predictions and inference.\n"
     ]
    },
    {
     "name": "stdout",
     "output_type": "stream",
     "text": [
      "Iteration: 2\n",
      "Epoch 1/3, Train Loss: 0.1562, Val Loss: 0.0666\n",
      "Epoch 2/3, Train Loss: 0.0525, Val Loss: 0.0576\n",
      "Epoch 3/3, Train Loss: 0.0316, Val Loss: 0.0505\n"
     ]
    },
    {
     "name": "stderr",
     "output_type": "stream",
     "text": [
      "Some weights of BertForSequenceClassification were not initialized from the model checkpoint at bert-base-uncased and are newly initialized: ['classifier.bias', 'classifier.weight']\n",
      "You should probably TRAIN this model on a down-stream task to be able to use it for predictions and inference.\n"
     ]
    },
    {
     "name": "stdout",
     "output_type": "stream",
     "text": [
      "Iteration: 3\n",
      "Epoch 1/3, Train Loss: 0.1487, Val Loss: 0.0815\n",
      "Epoch 2/3, Train Loss: 0.0391, Val Loss: 0.0604\n",
      "Epoch 3/3, Train Loss: 0.0252, Val Loss: 0.0609\n"
     ]
    },
    {
     "name": "stderr",
     "output_type": "stream",
     "text": [
      "Some weights of BertForSequenceClassification were not initialized from the model checkpoint at bert-base-uncased and are newly initialized: ['classifier.bias', 'classifier.weight']\n",
      "You should probably TRAIN this model on a down-stream task to be able to use it for predictions and inference.\n"
     ]
    },
    {
     "name": "stdout",
     "output_type": "stream",
     "text": [
      "Iteration: 4\n",
      "Epoch 1/3, Train Loss: 0.1457, Val Loss: 0.0753\n",
      "Epoch 2/3, Train Loss: 0.0403, Val Loss: 0.0866\n",
      "Epoch 3/3, Train Loss: 0.0277, Val Loss: 0.0648\n"
     ]
    }
   ],
   "source": [
    "# Training\n",
    "for seed in range(5):\n",
    "    # Model Setup\n",
    "    model = BertForSequenceClassification.from_pretrained('bert-base-uncased', num_labels=2)\n",
    "    device = torch.device('cuda') if torch.cuda.is_available() else torch.device('cpu')\n",
    "    model.to(device)\n",
    "\n",
    "    # Split the dataset into train (70%), validation (15%), and test (15%)\n",
    "    df_train, df_temp = train_test_split(df, test_size=0.3, random_state=seed)\n",
    "    df_val, df_test = train_test_split(df_temp, test_size=0.5, random_state=seed)\n",
    "\n",
    "    train_dataset = EmailDataset(\n",
    "        emails=df_train.email.to_numpy(),\n",
    "        labels=df_train.label.to_numpy(),\n",
    "        tokenizer=tokenizer,\n",
    "        max_len=max_token_length\n",
    "    )\n",
    "\n",
    "    val_dataset = EmailDataset(\n",
    "        emails=df_val.email.to_numpy(),\n",
    "        labels=df_val.label.to_numpy(),\n",
    "        tokenizer=tokenizer,\n",
    "        max_len=max_token_length\n",
    "    )\n",
    "\n",
    "    test_dataset = EmailDataset(\n",
    "        emails=df_test.email.to_numpy(),\n",
    "        labels=df_test.label.to_numpy(),\n",
    "        tokenizer=tokenizer,\n",
    "        max_len=max_token_length\n",
    "    )\n",
    "\n",
    "    train_loader = DataLoader(train_dataset, batch_size=32, shuffle=True)\n",
    "    val_loader = DataLoader(val_dataset, batch_size=32, shuffle=False)\n",
    "    test_loader = DataLoader(test_dataset, batch_size=32, shuffle=False)\n",
    "\n",
    "    print(f'Iteration: {seed}')\n",
    "    num_epochs = 3\n",
    "    optimizer = torch.optim.AdamW(model.parameters(), lr=2e-5)\n",
    "    total_steps = len(train_loader) * num_epochs\n",
    "    scheduler = get_linear_schedule_with_warmup(optimizer, num_warmup_steps=0, num_training_steps=total_steps)\n",
    "    best_val_loss = float('inf')\n",
    "\n",
    "    for epoch in range(num_epochs):\n",
    "        model.train()\n",
    "        train_losses = []\n",
    "\n",
    "        for batch in train_loader:\n",
    "            input_ids = batch['input_ids'].to(device)\n",
    "            attention_mask = batch['attention_mask'].to(device)\n",
    "            labels = batch['labels'].to(device)\n",
    "            outputs = model(\n",
    "                input_ids=input_ids,\n",
    "                attention_mask=attention_mask,\n",
    "                labels=labels\n",
    "            )\n",
    "            loss = outputs.loss\n",
    "            logits = outputs.logits\n",
    "            _, preds = torch.max(logits, dim=1)\n",
    "            train_losses.append(loss.item())\n",
    "            loss.backward()\n",
    "            optimizer.step()\n",
    "            scheduler.step()\n",
    "            optimizer.zero_grad()\n",
    "\n",
    "        train_loss = np.mean(train_losses)\n",
    "        model.eval()\n",
    "        val_losses = []\n",
    "\n",
    "        with torch.no_grad():\n",
    "            for batch in val_loader:\n",
    "                input_ids = batch['input_ids'].to(device)\n",
    "                attention_mask = batch['attention_mask'].to(device)\n",
    "                labels = batch['labels'].to(device)\n",
    "                outputs = model(\n",
    "                    input_ids=input_ids,\n",
    "                    attention_mask=attention_mask,\n",
    "                    labels=labels\n",
    "                )\n",
    "                loss = outputs.loss\n",
    "                logits = outputs.logits\n",
    "                _, preds = torch.max(logits, dim=1)\n",
    "                val_losses.append(loss.item())\n",
    "\n",
    "        val_loss = np.mean(val_losses)\n",
    "        print(f'Epoch {epoch+1}/{num_epochs}, Train Loss: {train_loss:.4f}, Val Loss: {val_loss:.4f}')\n",
    "\n",
    "        if val_loss < best_val_loss:\n",
    "            best_val_loss = val_loss\n",
    "            # Save the best model\n",
    "            torch.save(model.state_dict(), f'Models/best_BERT_model_{seed}.pt')"
   ]
  },
  {
   "cell_type": "code",
   "execution_count": 10,
   "metadata": {},
   "outputs": [
    {
     "name": "stdout",
     "output_type": "stream",
     "text": [
      "\n",
      "Iteration: 0\n",
      "Precision: 0.9963\n",
      "Recall: 0.9789\n",
      "F1 Score: 0.9875\n",
      "\n",
      "Iteration: 1\n",
      "Precision: 0.9917\n",
      "Recall: 0.9844\n",
      "F1 Score: 0.9880\n",
      "\n",
      "Iteration: 2\n",
      "Precision: 0.9981\n",
      "Recall: 0.9807\n",
      "F1 Score: 0.9894\n",
      "\n",
      "Iteration: 3\n",
      "Precision: 0.9935\n",
      "Recall: 0.9798\n",
      "F1 Score: 0.9866\n",
      "\n",
      "Iteration: 4\n",
      "Precision: 0.9870\n",
      "Recall: 0.9771\n",
      "F1 Score: 0.9820\n"
     ]
    }
   ],
   "source": [
    "# Step 7: Evaluation on Test Set\n",
    "from sklearn.metrics import f1_score, precision_score, recall_score, confusion_matrix, roc_curve, auc\n",
    "\n",
    "precision_list = []\n",
    "recall_list = []\n",
    "f1_list = []\n",
    "for seed in range(5):\n",
    "    # Load the best model\n",
    "    model.load_state_dict(torch.load(f'Models/best_BERT_model_{seed}.pt'))\n",
    "    model.eval()\n",
    "    all_labels = []\n",
    "    all_preds = []\n",
    "    all_probs = []\n",
    "\n",
    "    with torch.no_grad():\n",
    "        for batch in test_loader:\n",
    "            texts = batch['email_text']\n",
    "            input_ids = batch['input_ids'].to(device)\n",
    "            attention_mask = batch['attention_mask'].to(device)\n",
    "            labels = batch['labels'].to(device)\n",
    "\n",
    "            outputs = model(\n",
    "                input_ids=input_ids,\n",
    "                attention_mask=attention_mask\n",
    "            )\n",
    "\n",
    "            probs = torch.sigmoid(outputs.logits)\n",
    "            _, preds = torch.max(probs, dim=1)\n",
    "\n",
    "            all_preds.extend(preds)\n",
    "            all_probs.extend(probs)\n",
    "            all_labels.extend(labels)\n",
    "\n",
    "    all_preds = torch.stack(all_preds).cpu()\n",
    "    all_probs = torch.stack(all_probs).cpu()\n",
    "    all_labels = torch.stack(all_labels).cpu()\n",
    "\n",
    "    # Calculate metrics\n",
    "    precision = precision_score(all_labels, all_preds)\n",
    "    recall = recall_score(all_labels, all_preds)\n",
    "    f1 = f1_score(all_labels, all_preds)\n",
    "\n",
    "    precision_list.append(precision)\n",
    "    recall_list.append(recall)\n",
    "    f1_list.append(f1)\n",
    "\n",
    "    # Print metrics\n",
    "    print(f'\\nIteration: {seed}')\n",
    "    print(f'Precision: {precision:.4f}')\n",
    "    print(f'Recall: {recall:.4f}')\n",
    "    print(f'F1 Score: {f1:.4f}')"
   ]
  },
  {
   "cell_type": "code",
   "execution_count": 11,
   "metadata": {},
   "outputs": [
    {
     "name": "stdout",
     "output_type": "stream",
     "text": [
      "Overall:\n",
      "Average Precision: 0.9933186449213125\n",
      "Average Recall: 0.9801834862385321\n",
      "Average F1: 0.9867032948302958\n"
     ]
    }
   ],
   "source": [
    "print('Overall:')\n",
    "print(f'Average Precision: {np.mean(precision_list)}')\n",
    "print(f'Average Recall: {np.mean(recall_list)}')\n",
    "print(f'Average F1: {np.mean(f1_list)}')"
   ]
  },
  {
   "cell_type": "code",
   "execution_count": 12,
   "metadata": {},
   "outputs": [
    {
     "data": {
      "image/png": "[encoded data removed]",
      "text/plain": [
       "<Figure size 800x600 with 2 Axes>"
      ]
     },
     "metadata": {},
     "output_type": "display_data"
    }
   ],
   "source": [
    "# Plot confusion matrix\n",
    "from matplotlib import pyplot as plt\n",
    "import seaborn as sns\n",
    "\n",
    "cm = confusion_matrix(all_labels, all_preds)\n",
    "plt.figure(figsize=(8, 6))\n",
    "sns.heatmap(cm, annot=True, fmt='d', cmap='Blues', xticklabels=['Negative', 'Positive'], yticklabels=['Negative', 'Positive'])\n",
    "plt.xlabel('Predicted')\n",
    "plt.ylabel('Actual')\n",
    "plt.title('Confusion Matrix')\n",
    "plt.show()"
   ]
  },
  {
   "cell_type": "code",
   "execution_count": 14,
   "metadata": {},
   "outputs": [
    {
     "name": "stdout",
     "output_type": "stream",
     "text": [
      "0.9980683253556707\n"
     ]
    },
    {
     "data": {
      "image/png": "[encoded data removed]",
      "text/plain": [
       "<Figure size 800x600 with 1 Axes>"
      ]
     },
     "metadata": {},
     "output_type": "display_data"
    }
   ],
   "source": [
    "# Plot ROC curve\n",
    "fpr, tpr, _ = roc_curve(all_labels, all_probs[:, 1])\n",
    "roc_auc = auc(fpr, tpr)\n",
    "\n",
    "print(roc_auc)\n",
    "plt.figure(figsize=(8, 6))\n",
    "plt.plot(fpr, tpr, color='darkorange', lw=2, label=f'ROC curve (area = {roc_auc:.2f})')\n",
    "plt.plot([0, 1], [0, 1], color='navy', lw=2, linestyle='--')\n",
    "plt.xlim([0.0, 1.0])\n",
    "plt.ylim([0.0, 1.05])\n",
    "plt.xlabel('False Positive Rate')\n",
    "plt.ylabel('True Positive Rate')\n",
    "plt.title('Receiver Operating Characteristic (ROC) Curve')\n",
    "plt.legend(loc=\"lower right\")\n",
    "plt.show()"
   ]
  },
  {
   "cell_type": "code",
   "execution_count": null,
   "metadata": {},
   "outputs": [],
   "source": []
  }
 ],
 "metadata": {
  "kernelspec": {
   "display_name": "env",
   "language": "python",
   "name": "python3"
  },
  "language_info": {
   "codemirror_mode": {
    "name": "ipython",
    "version": 3
   },
   "file_extension": ".py",
   "mimetype": "text/x-python",
   "name": "python",
   "nbconvert_exporter": "python",
   "pygments_lexer": "ipython3",
   "version": "3.11.5"
  }
 },
 "nbformat": 4,
 "nbformat_minor": 2
}
